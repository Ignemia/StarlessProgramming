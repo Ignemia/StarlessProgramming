{
 "cells": [
  {
   "cell_type": "markdown",
   "id": "a02f5403-8855-4243-8649-6d0b8bf10b5b",
   "metadata": {},
   "source": [
    "# Programming class\n",
    "## Operators\n",
    "assign operator - \"=\" : Assigns a value to a variable  \n",
    "summation operator - \"+\" : Summs two variables / concatanates strings (text)  \n",
    "subtraction operator - \"-\" : Subtracts two variables  \n",
    "comparison operator - \"==\" : Compares two values  \n",
    "\n",
    "## Conditions\n",
    "### If-else statement\n",
    "```\n",
    "comparison = x == y\n",
    "print(comparison)\n",
    "\n",
    "if comparison:\n",
    "    print(\"Equal\")\n",
    "else:\n",
    "    print(\"Not equal\")\n",
    "```\n",
    "\n",
    "### Ternary operator\n",
    "_positive result of condition_ if _condition_ else _negative result of condition_\n",
    "`print(\"Equal\" if comparison else \"Not equal\")`\n",
    "\n",
    "## Loops\n",
    "### While-loops\n",
    "```\n",
    "x = 0 # assign a termination condition\n",
    "while x < 10: # compare the termination condition\n",
    "    print(x) # actions\n",
    "    x += 1\n",
    "```\n",
    "\n",
    "### For-loop\n",
    "```\n",
    "for i in range(10): # i (iteration), range is a function that specifies the elements\n",
    "    print(i) #actions\n",
    "```\n",
    "\n",
    "#### nested loops\n",
    "Having a loop within another loop -> not good for performance of the program\n",
    "\n",
    "## Functions\n",
    "Reserved keyword for function definition is `def`\n",
    "\n",
    "```\n",
    "def name_of_the_function(parameters):\n",
    "    function code\n",
    "```\n",
    "\n",
    "### What are they good for?\n",
    "- Repeated functionality  \n",
    "- Linked functionality (we don't want to change code in many places)\n",
    "- Multiple variable mutation (do stuff based on multiple variables)\n",
    "\n",
    "### Return statement\n",
    "When we use the function call as a variable we get what is returned"
   ]
  },
  {
   "cell_type": "code",
   "execution_count": null,
   "id": "8d4a2053-54b9-46ef-9883-9ad9ff2a29ab",
   "metadata": {},
   "outputs": [],
   "source": []
  }
 ],
 "metadata": {
  "kernelspec": {
   "display_name": "Python 3 (ipykernel)",
   "language": "python",
   "name": "python3"
  },
  "language_info": {
   "codemirror_mode": {
    "name": "ipython",
    "version": 3
   },
   "file_extension": ".py",
   "mimetype": "text/x-python",
   "name": "python",
   "nbconvert_exporter": "python",
   "pygments_lexer": "ipython3",
   "version": "3.12.3"
  }
 },
 "nbformat": 4,
 "nbformat_minor": 5
}
